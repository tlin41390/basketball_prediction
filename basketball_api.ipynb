{
 "cells": [
  {
   "cell_type": "code",
   "execution_count": null,
   "id": "881c8456-5a9a-4c37-869a-b6e4e3bcb659",
   "metadata": {},
   "outputs": [],
   "source": [
    "#Use the NBA API to gather player stats from this season as well as last season\n",
    "%pip install nba_api\n",
    "%pip install pandas\n",
    "\n"
   ]
  },
  {
   "cell_type": "code",
   "execution_count": null,
   "id": "cd9b7204",
   "metadata": {},
   "outputs": [],
   "source": [
    "from nba_api.stats.endpoints import playercareerstats\n",
    "from nba_api.stats.static import teams\n",
    "import pandas as pd"
   ]
  },
  {
   "cell_type": "code",
   "execution_count": null,
   "id": "571cf095",
   "metadata": {},
   "outputs": [],
   "source": [
    "print(pd.__version__)"
   ]
  },
  {
   "cell_type": "code",
   "execution_count": null,
   "id": "6a9c8fb7",
   "metadata": {},
   "outputs": [],
   "source": [
    "career = playercareerstats.PlayerCareerStats(player_id=\"203999\")\n",
    "\n",
    "career.get_data_frames()[0]\n",
    "\n",
    "career.get_json()\n",
    "\n",
    "career.get_dict()"
   ]
  },
  {
   "cell_type": "code",
   "execution_count": null,
   "id": "d40a9af0",
   "metadata": {},
   "outputs": [],
   "source": [
    "nba_teams = teams.get_teams()\n",
    "#Select dictionary for the Nuggets, which contains their team ID\n",
    "lakers = [team for team in nba_teams if team['abbreviation'] == 'LAL'][0]\n",
    "lakers_id = nuggets['id']"
   ]
  },
  {
   "cell_type": "code",
   "execution_count": null,
   "id": "947c94bf",
   "metadata": {},
   "outputs": [
    {
     "ename": "AttributeError",
     "evalue": "'str' object has no attribute 'head'",
     "output_type": "error",
     "traceback": [
      "\u001b[1;31m---------------------------------------------------------------------------\u001b[0m",
      "\u001b[1;31mAttributeError\u001b[0m                            Traceback (most recent call last)",
      "Cell \u001b[1;32mIn[22], line 7\u001b[0m\n\u001b[0;32m      5\u001b[0m \u001b[38;5;66;03m#we  want the first dataframe that is returned\u001b[39;00m\n\u001b[0;32m      6\u001b[0m games \u001b[38;5;241m=\u001b[39m gamefinder\u001b[38;5;241m.\u001b[39mget_json()\n\u001b[1;32m----> 7\u001b[0m \u001b[38;5;28mprint\u001b[39m(\u001b[43mgames\u001b[49m\u001b[38;5;241;43m.\u001b[39;49m\u001b[43mhead\u001b[49m())\n",
      "\u001b[1;31mAttributeError\u001b[0m: 'str' object has no attribute 'head'"
     ]
    }
   ],
   "source": [
    "from nba_api.stats.endpoints import leaguegamefinder\n",
    "\n",
    "#Query for games the Nuggets were playing\n",
    "gamefinder = leaguegamefinder.LeagueGameFinder(team_id_nullable = nuggets_id)\n",
    "#we  want the first dataframe that is returned\n",
    "games = gamefinder.get_json()\n",
    "games\n"
   ]
  },
  {
   "cell_type": "code",
   "execution_count": null,
   "id": "bfacd50d",
   "metadata": {},
   "outputs": [],
   "source": [
    "#get the last 10 games that the Nuggets played in 2025 \n",
    "nuggets_game = games[(games['SEASON_ID'] == '22024') & (games['TEAM_ID'] == nuggets_id)].head(10)\n",
    "\n",
    "\n",
    "\n",
    "\n"
   ]
  },
  {
   "cell_type": "code",
   "execution_count": null,
   "id": "f26a3fd4",
   "metadata": {},
   "outputs": [],
   "source": [
    "warriors = [team for team in nba_teams if team['abbreviation'] == 'GSW'][0]\n",
    "warriors_id = warriors['id']\n",
    "gamefinder = leaguegamefinder.LeagueGameFinder(team_id_nullable = warriors_id)\n",
    "games = gamefinder.get_data_frames()[0]\n",
    "warriors_games = games[(games['SEASON_ID'] == '22024') & (games['TEAM_ID'] == warriors_id)]\n",
    "\n",
    "\n"
   ]
  },
  {
   "cell_type": "code",
   "execution_count": null,
   "id": "fe5ff366",
   "metadata": {},
   "outputs": [],
   "source": [
    "!pip install openai"
   ]
  },
  {
   "cell_type": "code",
   "execution_count": null,
   "id": "7a555609",
   "metadata": {},
   "outputs": [],
   "source": [
    "def format_team_stats(team_df):\n",
    "    \"Format team stats for OpenAi\"\n",
    "    wins = team_df['WL'].value_counts()['W']\n",
    "    losses = team_df['WL'].value_counts()['L']\n",
    "    average_points = team_df['PTS'].mean()\n",
    "    win_percentage = (wins/ (wins + losses)) * 100\n",
    "\n",
    "    stats_summary = f\"\"\"\n",
    "    2025 statistics:\n",
    "    -Wins and Losses: {wins} - {losses}\n",
    "    -Average Points scored: {average_points:.1f}\n",
    "    -Win Percentage: {win_percentage:.1f}%\n",
    "\n",
    "    Game by Game Results:\n",
    "    \"\"\"\n",
    "\n",
    "    for _, game in team_df.iterrows():\n",
    "        stats_summary += f\"\\n{game['GAME_DATE']}: {game['MATCHUP']} - {game['WL']} ({game['PTS']})\"\n",
    "\n",
    "    return stats_summary, team_df['TEAM_NAME']\n"
   ]
  },
  {
   "cell_type": "code",
   "execution_count": null,
   "id": "80aee33c",
   "metadata": {},
   "outputs": [],
   "source": [
    "import os \n",
    "import openai"
   ]
  },
  {
   "cell_type": "code",
   "execution_count": null,
   "id": "167069c7",
   "metadata": {},
   "outputs": [],
   "source": [
    "openai.api_key  = os.getenv('open_ai_key')"
   ]
  },
  {
   "cell_type": "code",
   "execution_count": null,
   "id": "1b12a40e",
   "metadata": {},
   "outputs": [],
   "source": [
    "def get_prediction(team1,team2):\n",
    "    \"\"\"Generate a prediction from OpenAI for a game between two teams\"\"\"\n",
    "\n",
    "    prompt = f\"\"\"Based on the following NBA statistics, predict the winner and final score of a game between {team1[1][0]} and {team2[1][0]}:\n",
    "    \n",
    "    {team1[1][0]} Stats:\n",
    "    {team1[0]}\n",
    "\n",
    "    {team2[1][0]} Stats:\n",
    "    {team2[0]}\n",
    "\n",
    "    Please provide your prediction in this following format:\n",
    "    Winner: [team1 name]\n",
    "    Score: [team2 name][score] - [team2 name][score]\n",
    "    Confidence: [percentage]\n",
    "    Brief explanation:[1-2 sentences]\n",
    "\n",
    "    \"\"\"\n",
    "\n",
    "    try:\n",
    "        response = openai.chat.completions.create(\n",
    "            model = \"gpt-4o-mini\",\n",
    "            messages = [{\"role\": \"system\",\n",
    "                         \"content\": \"You are a professional NBA analyst with expertise in predicting game outcomes based on team statistics\"},\n",
    "                        {\"role\": \"user\",\n",
    "                         \"content\": prompt}],\n",
    "                         temperature=0.7\n",
    "        )\n",
    "        return response.choices[0].message.content\n",
    "    except Exception as e:\n",
    "        return f\"Error getting prediction: {str(e)}\"\n"
   ]
  },
  {
   "cell_type": "code",
   "execution_count": null,
   "id": "a20fd443",
   "metadata": {},
   "outputs": [],
   "source": [
    "    "
   ]
  },
  {
   "cell_type": "code",
   "execution_count": null,
   "id": "cf5b9b84",
   "metadata": {},
   "outputs": [],
   "source": [
    "nuggets_stats = format_team_stats(nuggets_game)\n",
    "lakers_stats = format_team_stats(lakers_games)\n",
    "prediction = get_prediction(nuggets_stats, warriors_stats)\n",
    "\n",
    "prediction"
   ]
  }
 ],
 "metadata": {
  "kernelspec": {
   "display_name": "Python 3",
   "language": "python",
   "name": "python3"
  },
  "language_info": {
   "codemirror_mode": {
    "name": "ipython",
    "version": 3
   },
   "file_extension": ".py",
   "mimetype": "text/x-python",
   "name": "python",
   "nbconvert_exporter": "python",
   "pygments_lexer": "ipython3",
   "version": "3.13.2"
  }
 },
 "nbformat": 4,
 "nbformat_minor": 5
}
